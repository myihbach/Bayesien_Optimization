{
 "cells": [
  {
   "cell_type": "markdown",
   "metadata": {
    "id": "3AvfAWILNQZc"
   },
   "source": [
    "# <font color='ushua'>**Optimisation Bayésienne**"
   ]
  },
  {
   "cell_type": "markdown",
   "metadata": {
    "id": "hjACw7wQPUG5"
   },
   "source": [
    "---\n",
    "### <font color=\"ushua\">**Travail fait par** :\n",
    "- ### IHBACH Mohammed Yassine\n",
    "- ### TAHERI Oumaima\n",
    "---"
   ]
  },
  {
   "cell_type": "markdown",
   "metadata": {
    "id": "eEZY7e3-NWXh"
   },
   "source": [
    "## <font color='orange'> L'objectif de ce TP est d'implémenter l'optimisation bayésienne (ici la méthode Efficient Global Optimization)"
   ]
  },
  {
   "cell_type": "markdown",
   "metadata": {
    "id": "SehDN8BGqGYL"
   },
   "source": [
    "*Remarques générales:*\n",
    "*   Le code n’est pas le but ultime du TP, c’est l’interprétation et l’analyse qui sont importantes.\n",
    "*   Dans la forme, afficher des matrices de grande taille est illisible, préférer des figures. De même, lorsque des valeurs aberrantes apparaissent (nan, 10^18, ...), c’est sans doute le signe qu’il y a un problème. Enfin, c’est mieux de corriger les messages d’erreur.\n",
    "*   Lorsque les résultats présentés sont aléatoires, il est importants de les répéter pour en fournir une analyse pertinente."
   ]
  },
  {
   "cell_type": "markdown",
   "metadata": {
    "id": "XbfTCkgJhTLs"
   },
   "source": [
    "# <font color='gray'>**Partie Théorique:**"
   ]
  },
  {
   "cell_type": "markdown",
   "metadata": {
    "id": "5Jsx7vwdiEmb"
   },
   "source": [
    "---\n",
    "- ## **Principe de krigeage**:\n",
    "<font size=\"3px\">Le krigeage (Krige, 1951) est une méthode de prédiction reposant sur un modèle probabiliste (généralement gaussien) qui peut être utilisée pour interpoler des données. Cette méthode peut être décrite comme une technique de régression à noyaux, au même titre que les splines  ou la SVR (support vector regression, cf. Smola (1998)). Le terme krigeage, kriging en anglais, provient du nom de famille de l’ingénieur minier sudafricain Daniel Gerhardus Krige à l’origine de la technique, mais la formalisation mathématique revient à George Matheron (Matheron, 1963). \n",
    "    \n",
    "    Depuis les années 60, le krigeage, qui n’est au\n",
    "départ qu’une prédiction linéaire, a été largement développé et utilisé en géostatistiques. Depuis les années 90, le krigeage est aussi connu sous le nom de modélisation par processus gaussiens dans le domaine du machine learning. \n",
    "\n",
    "     Le principe sous-jacent au krigeage est de modéliser la fonction inconnue par un processus gaussien de fonction moyenne $m(x) = E[F(x)]$, et de fonction de covariance : $k(x,y) = cov(F(x),F(y))$.\n",
    "\n",
    "---\n"
   ]
  },
  {
   "cell_type": "markdown",
   "metadata": {
    "id": "kmmyAKJmN0H5"
   },
   "source": [
    "---\n",
    "# Librairies\n",
    "---"
   ]
  },
  {
   "cell_type": "code",
   "execution_count": 3,
   "metadata": {
    "id": "LlY4DXPvN72k"
   },
   "outputs": [],
   "source": [
    "import numpy as np\n",
    "import matplotlib.pyplot as plt\n",
    "from scipy.stats import norm"
   ]
  },
  {
   "cell_type": "markdown",
   "metadata": {
    "id": "_VYFBhj0NtWR"
   },
   "source": [
    "---\n",
    "# <font color='purple'>  Partie 1 : Génération de réalisations de processus stochastiques (1d)\n",
    "---\n",
    "\n",
    "<font size=\"4px\"> On commence par générer des réalisations de vecteurs gaussiens avec\n",
    "différentes fonctions de covariance. Par exemple, on testera ici les\n",
    "covariances *gaussienne* et *exponentielle*:<br><br>\n",
    "\n",
    "$$k_G(\\mathbf{x}, \\mathbf{x}', {\\theta}) =\n",
    "\\sigma^2 \\exp \\left( -||\\mathbf{x} - \\mathbf{x}'||^2 / \\theta^2 \\right)$$<br><br>\n",
    "et \n",
    "$$k_E(x, x',\n",
    "{\\theta}) = \\sigma^2 \\exp \\left(- ||\\textbf{x} - \\textbf{x}'|| / \\theta \\right)$$  <br><br>\n",
    "\n",
    "($\\mathbf{x}, \\ \\mathbf{x}' \\in \\mathbb{R}^d,\\ \\theta > 0, \\ \\sigma >0$). On considère également la covariance *du mouvement brownien* sur $\\mathbb{R} \\times \\mathbb{R}$: $$k_B(\\mathbf{x}, \\mathbf{x}') = \\min(\\mathbf{x}, \\mathbf{x}').$$"
   ]
  },
  {
   "cell_type": "markdown",
   "metadata": {
    "id": "h4-7W-jdP9Ez"
   },
   "source": [
    "### <font color='ushua'>1. Coder les fonctions de covariance univariées correspondantes, en fonction de $\\textbf{x}$, $\\textbf{x}'$, $\\theta$ et $\\sigma$. Les représenter graphiquement en fonction de $\\textbf{x} \\in [-1,1]$ avec $\\textbf{x}' = 0,$  $\\theta = 0.2,$ $\\sigma = 1$."
   ]
  },
  {
   "cell_type": "markdown",
   "metadata": {
    "id": "7y7NJ7nPO5CG"
   },
   "source": [
    "---\n",
    "## Covariance gaussienne\n",
    "---"
   ]
  },
  {
   "cell_type": "code",
   "execution_count": 4,
   "metadata": {
    "id": "i54vd8iMN-Zf"
   },
   "outputs": [],
   "source": [
    "def KG(x,z,theta,sigma):\n",
    "    return sigma**2*np.exp(-np.linalg.norm(x-z)**2/theta**2)"
   ]
  },
  {
   "cell_type": "markdown",
   "metadata": {
    "id": "0mXb52bKPy4r"
   },
   "source": [
    "---\n",
    "## Covariance exponentielle\n",
    "---"
   ]
  },
  {
   "cell_type": "code",
   "execution_count": 5,
   "metadata": {
    "id": "FZ04Da3IP4sI"
   },
   "outputs": [],
   "source": [
    "def KE(x,z,theta,sigma):\n",
    "    return sigma**2*np.exp(-np.linalg.norm(x-z)/theta)"
   ]
  },
  {
   "cell_type": "markdown",
   "metadata": {
    "id": "KITS2K74P73T"
   },
   "source": [
    "---\n",
    "## Covariance du mouvement brownien\n",
    "---"
   ]
  },
  {
   "cell_type": "code",
   "execution_count": 6,
   "metadata": {
    "id": "yDTAfygvQs6M"
   },
   "outputs": [],
   "source": [
    "def KB(x,z):\n",
    "    return min(x,z)  "
   ]
  },
  {
   "cell_type": "markdown",
   "metadata": {
    "id": "zVFCz-nGdzfv"
   },
   "source": [
    "---\n",
    "## Représentation graphique des trois covariances.\n",
    "---"
   ]
  },
  {
   "cell_type": "code",
   "execution_count": 7,
   "metadata": {
    "id": "BhTBhp21d_ej"
   },
   "outputs": [],
   "source": [
    "theta=0.2\n",
    "sigma=1\n",
    "start=-1\n",
    "stop=1\n",
    "n_values=100\n",
    "x=np.linspace(start,stop,n_values)\n",
    "z=np.linspace(start,stop,n_values)*0\n",
    "KGvals = np.zeros(n_values)\n",
    "KEvals = np.zeros(n_values)\n",
    "KBvals = np.zeros(n_values)\n",
    "for i in range(n_values):\n",
    "    KGvals[i]=KG(x[i],z[i],theta=0.2,sigma=1)\n",
    "    KEvals[i]=KE(x[i],z[i],theta=0.2,sigma=1)\n",
    "    KBvals[i]=KB(x[i],z[i])"
   ]
  },
  {
   "cell_type": "code",
   "execution_count": 8,
   "metadata": {
    "colab": {
     "base_uri": "https://localhost:8080/",
     "height": 612
    },
    "id": "mmMNWR39eGN7",
    "outputId": "faecaf2d-9c78-4d42-d12c-838190e207c5"
   },
   "outputs": [
    {
     "data": {
      "image/png": "[encoded data removed]",
      "text/plain": [
       "<Figure size 432x288 with 3 Axes>"
      ]
     },
     "metadata": {
      "needs_background": "light"
     },
     "output_type": "display_data"
    }
   ],
   "source": [
    "fig,ax=plt.subplots(3,1)\n",
    "ax[0].plot(x,KGvals,'r')\n",
    "ax[1].plot(x,KEvals,'b')\n",
    "ax[2].plot(x,KBvals,'g')\n",
    "ax[0].set_title(\"KG : Covariance Gaussienne\",fontsize=14)\n",
    "ax[1].set_title(\"KE :Covariance exponentielle\",fontsize=14)\n",
    "ax[2].set_title(\"KB : Covariance du mouvement Brownien\" , fontsize=14)\n",
    "plt.subplots_adjust(left=0.125,bottom=0.1,right=0.9,top=2,wspace=0.2,hspace=0.35)\n",
    "plt.show()"
   ]
  },
  {
   "cell_type": "markdown",
   "metadata": {
    "id": "31f16IUrQIrA"
   },
   "source": [
    "### <font color='ushua'>2. Générer des réalisations de $\\mathcal{N}(\\mathbf{0}_{n'}, \\mathbf{K}_{n'})$ sur l'intervalle $[0,1]$, sur une grille régulière $\\mathcal{X}$ de taille $n'$ (e.g., avec un pas de $0.01$). \n",
    "\n",
    "<font size=\"4px\"> $$[\\mathbf{K}_{n'}]_{ij} = k_\\cdot(\\textbf{x}_i, \\textbf{x}_j),  \\ \\ \\ \\textbf{x}_i, \\textbf{x}_j \\in \\mathcal{X}.$$"
   ]
  },
  {
   "cell_type": "code",
   "execution_count": 9,
   "metadata": {
    "id": "-prBeX5PlPnp"
   },
   "outputs": [],
   "source": [
    "def covariance_matrix(K,X,theta , sigma):\n",
    "    return [[K(x,z,sigma,theta) for z in X ] for x in X]"
   ]
  },
  {
   "cell_type": "markdown",
   "metadata": {
    "id": "iYxqK6fPkZep"
   },
   "source": [
    "---\n",
    "### Avec la covariance gaussienne:\n",
    "---"
   ]
  },
  {
   "cell_type": "code",
   "execution_count": 11,
   "metadata": {
    "colab": {
     "base_uri": "https://localhost:8080/",
     "height": 279
    },
    "id": "gAmnnmoekkvr",
    "outputId": "c008805d-606a-419c-f9f2-a1d472faf776"
   },
   "outputs": [
    {
     "data": {
      "image/png": "[encoded data removed]",
      "text/plain": [
       "<Figure size 432x288 with 1 Axes>"
      ]
     },
     "metadata": {
      "needs_background": "light"
     },
     "output_type": "display_data"
    }
   ],
   "source": [
    "X=np.arange(0,1.01,0.01)  #[0,1] avec un pas de 0.01\n",
    "mu=np.zeros(len(X))\n",
    "K=covariance_matrix(KG,X,theta=0.2,sigma=1) # sigma contrôle l'amplitude et theta contrôle la fréquence\n",
    "\n",
    "plt_vals=[]\n",
    "for i in range(3):\n",
    "  Y=np.random.multivariate_normal(mu,K)\n",
    "  plt_vals.extend([X,Y])\n",
    "\n",
    "plt.plot(*plt_vals)\n",
    "plt.xlabel(\"X\")\n",
    "plt.ylabel(\"Y\")\n",
    "plt.show()"
   ]
  },
  {
   "cell_type": "markdown",
   "metadata": {
    "id": "AlveceLUlB1i"
   },
   "source": [
    "---\n",
    "### Avec la covariance exponentielle:\n",
    "---"
   ]
  },
  {
   "cell_type": "code",
   "execution_count": 12,
   "metadata": {
    "colab": {
     "base_uri": "https://localhost:8080/",
     "height": 279
    },
    "id": "ojwiW4WZkkQj",
    "outputId": "16125931-9595-4b3a-c977-097d5316295a"
   },
   "outputs": [
    {
     "data": {
      "image/png": "[encoded data removed]",
      "text/plain": [
       "<Figure size 432x288 with 1 Axes>"
      ]
     },
     "metadata": {
      "needs_background": "light"
     },
     "output_type": "display_data"
    }
   ],
   "source": [
    "X=np.arange(0,1,0.01)\n",
    "mu=np.zeros(len(X))\n",
    "K=covariance_matrix(KE,X,theta=0.1,sigma=1) # sigma contrôle l'amplitude et theta contrôle la fréquence\n",
    "\n",
    "plt_vals=[]\n",
    "for i in range(3):\n",
    "  Y=np.random.multivariate_normal(mu,K)\n",
    "  plt_vals.extend([X,Y])\n",
    "\n",
    "plt.plot(*plt_vals)\n",
    "plt.xlabel(\"X\")\n",
    "plt.ylabel(\"Y\")\n",
    "plt.show()"
   ]
  },
  {
   "cell_type": "markdown",
   "metadata": {
    "id": "H3cVNBFLlqrR"
   },
   "source": [
    "---\n",
    "<font color=\"red\" size=\"4px\">**Remarque**</font> : <font size=\"4px\"> En jouant sur les valeurs de $\\theta$ et de $\\sigma$ , nous remarquons que $\\sigma$ contrôle l'amplitude et $\\theta$ contrôle la fréquence ; plus elle augmente plus la fréquence des oscillations diminue et nous remarquons également que les réalisations de la covariance gaussienne sont lisses , elles sont infiniment dérivables tandis que celles de la covariance exponentielle ne le sont pas ; elles sont juste continues.\n",
    "\n",
    "---"
   ]
  },
  {
   "cell_type": "markdown",
   "metadata": {
    "id": "HSjbwyISQJGX"
   },
   "source": [
    "###  <font color='ushua'> 3. On rappelle que:\n",
    "<font size=\"4px\"> $\\mathbf{K}^{1/2} Z \\sim \\mathcal{N}(0, \\mathbf{K})$ où $Z \\sim \\mathcal{N}(0, \\mathbf{I})$ et $\\mathbf{K}^{1/2}$ une matrice telle que $\\mathbf{K}^{1/2}\\mathbf{K}^{1/2} = \\mathbf{K}$, <br>obtenue par example par diagonalisation. Commenter l'effet de $\\theta$ ($\\theta = 0.1, 0.5, 0.05$), <br>  $\\sigma^2$ ($\\sigma = 1, 10$) et du type de noyau sur les réalisations générées (e.g., 5-6 par configuration)."
   ]
  },
  {
   "cell_type": "code",
   "execution_count": 13,
   "metadata": {
    "id": "9eqx9lT3o8tI"
   },
   "outputs": [],
   "source": [
    "#matrice de covariance\n",
    "def covariance_matrix(X,theta,sigma):\n",
    "    return [[KE(x,z,theta,sigma) for x in X]for z in X]"
   ]
  },
  {
   "cell_type": "code",
   "execution_count": 14,
   "metadata": {
    "id": "1JJX50cGNM26"
   },
   "outputs": [],
   "source": [
    "def generation_gaussiens(theta,sigma):\n",
    "    N=1000\n",
    "    mu=np.zeros(N)\n",
    "    start=0\n",
    "    stop=1\n",
    "    X=np.linspace(start,stop,N)\n",
    "    theta=0.1\n",
    "    sigma=1\n",
    "    K=covariance_matrix(X,theta,sigma)\n",
    "    #factorisation de K\n",
    "    L=np.linalg.cholesky(K)\n",
    "    Z=np.random.normal(size=N*3).reshape(3,N)\n",
    "    VecteurGaussien=mu+np.dot(Z,L)\n",
    "    return VecteurGaussien\n"
   ]
  },
  {
   "cell_type": "code",
   "execution_count": 15,
   "metadata": {
    "colab": {
     "base_uri": "https://localhost:8080/",
     "height": 299
    },
    "id": "jZyzihjjNFjd",
    "outputId": "c439cb8b-b733-42ff-c58f-623c9e4eb1ed"
   },
   "outputs": [
    {
     "data": {
      "text/plain": [
       "[<matplotlib.lines.Line2D at 0x7f32ec330210>,\n",
       " <matplotlib.lines.Line2D at 0x7f32dc7fbc10>]"
      ]
     },
     "execution_count": 15,
     "metadata": {},
     "output_type": "execute_result"
    },
    {
     "data": {
      "image/png": "[encoded data removed]",
      "text/plain": [
       "<Figure size 432x288 with 4 Axes>"
      ]
     },
     "metadata": {
      "needs_background": "light"
     },
     "output_type": "display_data"
    }
   ],
   "source": [
    "fig,ax=plt.subplots(4,1)\n",
    "ax[0].plot(*generation_gaussiens(0.1,1))\n",
    "ax[1].plot(*generation_gaussiens(0.1,10))\n",
    "ax[2].plot(*generation_gaussiens(0.5,1))\n",
    "ax[3].plot(*generation_gaussiens(0.5,10))"
   ]
  },
  {
   "cell_type": "markdown",
   "metadata": {
    "id": "EXXHSbBMQJYR"
   },
   "source": [
    "# <font color='purple'>  Partie 2 : Métamodélisation\n",
    "\n",
    "<font size=\"4px\">On se place dans un cadre *black-box* et on considère que les évaluations\n",
    "sont *chères*, on cherche donc à limiter au maximum le nombre d'appels à\n",
    "$f$.\n",
    "\n",
    "Dans un premier temps, on considère la fonction Branin modifiée (un seul\n",
    "minimum global) :\n",
    "\n",
    "$$f_b(x) = \\left(x_2 - \\frac{5.1}{4\\pi^2} x_1^2 + \\frac{5}{\\pi} x_1 -6 \\right)^2 + 10 \\left[ \\left(1 - \\frac{1}{8 \\pi} \\right)  \\cos{x_1} + 1 \\right] + 5 x_1, ~ x_1 \\in [-5,10], x_2 \\in [0,15].$$\n",
    "\n",
    "Il s'agit d'implémenter les fonctions qui interviennent dans la régression par processus gaussien (ou krigeage). Il pourra être utile d'avoir des fonctions pour calculer directement la matrice de covariance d'une matrice d'expériences $\\mathbf{X}_n$ (i.e., $\\mathbf{K}_n)$, ainsi que le vecteur de covariance entre un design $x$ et $\\mathbf{X}_n$ (i.e., $k(x, \\mathbf{X}_n) := k_n(x)$).\n"
   ]
  },
  {
   "cell_type": "markdown",
   "metadata": {
    "id": "3rpWVHt_qCfT"
   },
   "source": [
    " ---\n",
    " ### Avant d'entammer la deuxième partie nous tenons à présenter l'algorithme de EGO (Efficient Global Optimization) qui sera implémenté par étapes dans les parties qui suivent:\n",
    "\n",
    "---\n",
    "  - <font size=\"4px\">Évaluer f sur un plan d’expériences initial<br><br>\n",
    "  - Estimer les paramètres d’une covariance par maximum de vraisemblance.<br><br>\n",
    "  - Calculer la prédiction par krigeage.<br><br>\n",
    "  - Si La prédiction par krigeage n’est pas satisfaisante alors Transformer les données ou arrêter l’algorithme.<br><br>\n",
    "  - Calculer fmin le minimum des résultats d’évaluations effectués.<br><br>\n",
    "  - $ EI_{max} ← max_{x∈X} EI(x)$.<br><br>\n",
    "  - Évaluer f au maximiseur de EI.<br><br>\n",
    "  - Réestimer les paramètres de la covariance en tenant compte du résultat de la nouvelle évaluation.<br><br>\n",
    "  - Mettre à jour la prédiction par krigeage.<br><br>\n",
    "  - Mettre à jour $EI_{max}$ et $f_{min}$.<br><br>\n",
    "\n",
    "---\n",
    "\n",
    "\n",
    "\n",
    "\n"
   ]
  },
  {
   "cell_type": "markdown",
   "metadata": {
    "id": "PrE_-rbjRyKK"
   },
   "source": [
    "### <font color='ushua'>1. Pour la prédiction et la création de figures, on prendra une grille régulière $\\mathcal{X}$ (e.g., de taille $51 \\times 51$). Afficher $f_b$ sur $\\mathcal{X}$.\n"
   ]
  },
  {
   "cell_type": "markdown",
   "metadata": {
    "id": "nbi3tlxR2xjv"
   },
   "source": [
    "* ### Définition de la fonction de Branin"
   ]
  },
  {
   "cell_type": "code",
   "execution_count": 16,
   "metadata": {
    "id": "gpaz51Jr2Qgu"
   },
   "outputs": [],
   "source": [
    "def Branin(x1,x2):\n",
    "    C1=5.1/(2*np.pi)**2\n",
    "    C2=5/np.pi\n",
    "    C3=(1-1/(8*np.pi))\n",
    "    return (x2-C1*x1**2+C2*x1-6)**2+10*(C3*np.cos(x1)+1)+5*x1"
   ]
  },
  {
   "cell_type": "code",
   "execution_count": 17,
   "metadata": {
    "id": "BPwdf9tb2qab"
   },
   "outputs": [],
   "source": [
    "def Branin_cube(x1,x2): #pour projeter x1 et x2 sur [0,1]\n",
    "    return Branin(15*x1-5,15*x2)"
   ]
  },
  {
   "cell_type": "markdown",
   "metadata": {
    "id": "rQ2zn7GP26wi"
   },
   "source": [
    "* ### Représentation graphique de la fonction"
   ]
  },
  {
   "cell_type": "code",
   "execution_count": 18,
   "metadata": {
    "colab": {
     "base_uri": "https://localhost:8080/",
     "height": 324
    },
    "id": "iqjNj8Pp2__y",
    "outputId": "29cf2a8c-58e7-4f53-f11b-cf0b610c9315"
   },
   "outputs": [
    {
     "data": {
      "image/png": "[encoded data removed]",
      "text/plain": [
       "<Figure size 576x360 with 1 Axes>"
      ]
     },
     "metadata": {
      "needs_background": "light"
     },
     "output_type": "display_data"
    }
   ],
   "source": [
    "#représentation graphique \n",
    "fig= plt.figure(1,figsize=(8,5))\n",
    "start,stop, n_values=0,1,51\n",
    "x_vals=np.linspace(start,stop,n_values)\n",
    "y_vals=np.linspace(start,stop,n_values)\n",
    "\n",
    "X,Y=np.meshgrid(x_vals,y_vals) #maillage du domaine \n",
    "Z=Branin_cube(X,Y)\n",
    "cp=plt.contour(X,Y,Z,5) #pour les courbes de niveaux\n",
    "plt.clabel(cp,inline=True,fontsize=10) #clabel pour labeliser le contour\n",
    "plt.show()"
   ]
  },
  {
   "cell_type": "markdown",
   "metadata": {
    "id": "zERjyaeZRy5B"
   },
   "source": [
    "\n",
    "### <font color='ushua'>2. Plan d'expériences initial ($\\mathbf{X}_9$): pour simplifier, on prendra pour  la grille regulière $3 \\times 3$ dans $[0,1]^2$. Evaluer les réponses correspondantes ($\\textbf{y}_9$).\n",
    "\n"
   ]
  },
  {
   "cell_type": "markdown",
   "metadata": {
    "id": "_O1tEPR15Nto"
   },
   "source": [
    "### **Plan d'expérience intial X1:**"
   ]
  },
  {
   "cell_type": "code",
   "execution_count": 20,
   "metadata": {
    "colab": {
     "base_uri": "https://localhost:8080/",
     "height": 469
    },
    "id": "A60yLvrsRzFR",
    "outputId": "a118b9ea-cb2c-4dae-b767-994a302cc5f8"
   },
   "outputs": [
    {
     "name": "stdout",
     "output_type": "stream",
     "text": [
      "[[0.  0. ]\n",
      " [0.  0.5]\n",
      " [0.  1. ]\n",
      " [0.5 0. ]\n",
      " [0.5 0.5]\n",
      " [0.5 1. ]\n",
      " [1.  0. ]\n",
      " [1.  0.5]\n",
      " [1.  1. ]]\n",
      "[283.12909601  81.56869776  -7.49170048  22.80790849  36.62996441\n",
      " 162.95202034  60.96088904  72.16653996 195.87219088]\n"
     ]
    },
    {
     "data": {
      "image/png": "[encoded data removed]",
      "text/plain": [
       "<Figure size 432x288 with 1 Axes>"
      ]
     },
     "metadata": {
      "needs_background": "light"
     },
     "output_type": "display_data"
    }
   ],
   "source": [
    "xgrid=np.linspace(0,1,3)\n",
    "X1=np.array(np.meshgrid(xgrid,xgrid)).T.reshape(-1,2)\n",
    "print(X1)\n",
    "#les réponses correspondantes : y1\n",
    "y1=Branin_cube(X1[:,0],X1[:,1])\n",
    "print(y1)\n",
    "plt.plot(y1);"
   ]
  },
  {
   "cell_type": "markdown",
   "metadata": {
    "id": "TO3s2zL66fjg"
   },
   "source": [
    "---\n",
    "- <font size=\"4px\">C'est une représentation de l'évaluation de la fonction de Branin dans les 9 points de la grille définie ci-dessus.\n",
    "---"
   ]
  },
  {
   "cell_type": "markdown",
   "metadata": {
    "id": "AiyuXdr7RzUH"
   },
   "source": [
    "### <font color='ushua'>3. On prendra ici une covariance gaussienne avec $\\theta = 0.2$. Afficher la moyenne et la variance de prédiction par krigeage/processus gaussien en fonction de $x_1$ et $x_2$ sur $\\mathcal{X}$. \n",
    "   \n",
    "<font size=\"4px\">   On rappelle que pour le krigeage simple, \n",
    "  $$m_n(\\textbf{x}) = k_n(\\textbf{x})^\\top \\mathbf{K}_n^{-1} \\textbf{y}_n$$ \n",
    "   et \n",
    "   $$s_n^2(\\textbf{x}) = k(\\textbf{x}, \\textbf{x}) - k_n(\\textbf{x})^\\top \\mathbf{K}_n^{-1} k_n(\\textbf{x}).$$ \n",
    "\n",
    "   De plus, l'estimateur $\\hat{\\sigma}^2_n$ obtenu par maximisation de la vraisemblance est $$\\hat{\\sigma}^2_n = \\frac{1}{n} \\textbf{y}_n^\\top \\mathbf{K}_n^{-1} \\textbf{y}_n.$$ \n",
    "\n",
    "  Il peut être utile de sauver l'inverse de la matrice de covariance pour éviter de la recalculer.\n"
   ]
  },
  {
   "cell_type": "code",
   "execution_count": 21,
   "metadata": {
    "colab": {
     "base_uri": "https://localhost:8080/"
    },
    "id": "78xc4YM6QJh3",
    "outputId": "6032faed-73f9-444b-8d07-9c8be9aaa22c"
   },
   "outputs": [
    {
     "name": "stdout",
     "output_type": "stream",
     "text": [
      "La moyenne de prédiction par Krigeage est:\n",
      "[283.12881308 282.45236558 280.35647291 ... 193.97365421 195.41265477\n",
      " 195.87199546]\n",
      "************************************************\n",
      "La variance de prédiction par Krigeage est:\n",
      "[[1.80248436e-02 4.59364888e+01 1.82991206e+02 ... 1.80248616e+04\n",
      "  1.80248616e+04 1.80248616e+04]\n",
      " [4.59364888e+01 9.17324598e+01 2.28431025e+02 ... 1.80248616e+04\n",
      "  1.80248616e+04 1.80248616e+04]\n",
      " [1.82991206e+02 2.28431025e+02 3.64078580e+02 ... 1.80248616e+04\n",
      "  1.80248616e+04 1.80248616e+04]\n",
      " ...\n",
      " [1.80248616e+04 1.80248616e+04 1.80248616e+04 ... 3.64078580e+02\n",
      "  2.28431025e+02 1.82991206e+02]\n",
      " [1.80248616e+04 1.80248616e+04 1.80248616e+04 ... 2.28431025e+02\n",
      "  9.17324598e+01 4.59364888e+01]\n",
      " [1.80248616e+04 1.80248616e+04 1.80248616e+04 ... 1.82991206e+02\n",
      "  4.59364888e+01 1.80248436e-02]]\n"
     ]
    }
   ],
   "source": [
    "def KG(x,z,theta,sigma):\n",
    "    return (sigma**2)*np.exp(-np.linalg.norm(x-z)**2/theta**2)\n",
    "\n",
    "def covariance_matrix(X1,X2,theta,sigma):\n",
    "    row1=len(X1)\n",
    "    row2=len(X2)\n",
    "    K=np.zeros((row1,row2))\n",
    "    i=0\n",
    "    for xi in X1:\n",
    "        j=0\n",
    "        for xj in X2:\n",
    "            K[i,j]=KG(xi.T,xj.T,theta,sigma)\n",
    "            j+=1\n",
    "        i+=1\n",
    "    return K\n",
    "\n",
    "ngrid=100\n",
    "xgrid=np.linspace(0,1,ngrid)\n",
    "Xgrid=np.array(np.meshgrid(xgrid,xgrid)).T.reshape(-1,2)\n",
    "Ygrid=Branin_cube(Xgrid[:,0],Xgrid[:,1])  # l'évaluation de Xgrid\n",
    "\n",
    "K1=covariance_matrix(X1,X1,theta=0.2,sigma=1) #sigma est estimé par maximisation de la fonction de vraisemblance\n",
    "invK1=np.linalg.inv(K1+ 1e-6*np.eye(len(X1))) #ce terme à sa diagonale pour assurer un bon conditionnement de la matrice (assurer son inversibilité)\n",
    "sigma2_hat1=(y1.T.dot(invK1).dot(y1))/len(y1)\n",
    "kv1=covariance_matrix(Xgrid,X1,theta=0.2,sigma=1.0)\n",
    "#Moyenne de prédiction par krigeage\n",
    "mn1=kv1.dot(invK1).dot(y1)\n",
    "print('La moyenne de prédiction par Krigeage est:')\n",
    "print(mn1)\n",
    "#variance de prédiction par krigeage\n",
    "sn21=sigma2_hat1*(1-kv1.dot(invK1).dot(kv1.T))\n",
    "print('************************************************')\n",
    "print('La variance de prédiction par Krigeage est:')\n",
    "print(sn21)"
   ]
  },
  {
   "cell_type": "markdown",
   "metadata": {
    "id": "fX_CckQo7uXy"
   },
   "source": [
    "---\n",
    "- <font size=\"4px\">La moyenne est exactement $\\mathbf{\\lambda(x)}^\\intercal F_n$ avec $\\lambda(x)$ le vecteur des n coefficients de la prédiction par krigeage et $F_n$ est le vecteur aléatoire modélisant les résultats des évaluations aux points du plan d'expérience.<br><br>\n",
    "- . Sous l’hypothèse gaussienne, la meilleure prédiction linéaire non biaisée est en effet la limite du predicteur bayésien lorsque la variance de l’a priori sur les coefficients de la combinaison linéaire définissant la moyenne de\n",
    "F vers l’infini.\n",
    "---"
   ]
  },
  {
   "cell_type": "markdown",
   "metadata": {
    "id": "QTt7dkyBSQCa"
   },
   "source": [
    "---\n",
    "### <font color='ushua'>4. Comparer le résultat de la prédiction lorsque le plan d'expérience $\\mathbf{X}_9$ est un hypercube latin (LHS). Dans ce cas, afficher la moyenne et variance de prédiction en fonction de $x_1$ et $x_2$ sur $\\mathcal{X}$. \n",
    "---\n",
    " \n",
    " \n"
   ]
  },
  {
   "cell_type": "code",
   "execution_count": 22,
   "metadata": {
    "id": "uR_8It-uSQUb"
   },
   "outputs": [],
   "source": [
    "#latin Hypercube Sampling\n",
    "def latin_hypercube_2d_uniform(n):\n",
    "    lower_limits=np.arange(0,n)/n\n",
    "    upper_limits=np.arange(1,n+1)/n\n",
    "    points=np.random.uniform(low=lower_limits,high=upper_limits,size=[2, n]).T\n",
    "    np.random.shuffle(points[:,1])\n",
    "    return points"
   ]
  },
  {
   "cell_type": "code",
   "execution_count": 23,
   "metadata": {
    "colab": {
     "base_uri": "https://localhost:8080/",
     "height": 477
    },
    "id": "050nsRIcCxE7",
    "outputId": "f89bf566-ffb5-4d74-9923-41cdd039f81c"
   },
   "outputs": [
    {
     "data": {
      "image/png": "[encoded data removed]",
      "text/plain": [
       "<Figure size 360x360 with 1 Axes>"
      ]
     },
     "metadata": {
      "needs_background": "light"
     },
     "output_type": "display_data"
    },
    {
     "name": "stdout",
     "output_type": "stream",
     "text": [
      "[[0.04730762 0.47654569]\n",
      " [0.11469806 0.99381499]\n",
      " [0.24358404 0.56926791]\n",
      " [0.4288311  0.68673174]\n",
      " [0.53549006 0.15580226]\n",
      " [0.62144687 0.07349133]\n",
      " [0.74669506 0.44163117]\n",
      " [0.86629334 0.27880979]\n",
      " [0.9367717  0.83615959]]\n"
     ]
    }
   ],
   "source": [
    "n=9\n",
    "p=latin_hypercube_2d_uniform(n)\n",
    "plt.figure(figsize=[5,5])\n",
    "plt.xlim([0,1])\n",
    "plt.ylim([0,1])\n",
    "plt.scatter(p[:,0],p[:,1],c='r')\n",
    "\n",
    "for i in np.arange(0,1,1/n):\n",
    "    plt.axvline(i)\n",
    "    plt.axhline(i)\n",
    "\n",
    "plt.show()\n",
    "print(p)"
   ]
  },
  {
   "cell_type": "markdown",
   "metadata": {
    "id": "ewUoh6uTC2Em"
   },
   "source": [
    "---\n",
    "<font size=\"4px\">Dans le bloc précédent nous avons effectuer un échantillionnage par LHS cette méthode consiste à partitionner l’hypercube de départ en $n^d $sous-hypercubes identiques. Chaque dimension est donc divisée en n intervalles de même longueur. L’hypercube latin est alors construit de telle sorte que pour chacune des $d$ dimensions, chacun des $n$ intervalles soit associé à exactement un point. Autrement dit, chaque intervalle doit contenir une et une seule coordonnée : il ne doit pas y avoir de superposition des points lors de la projection sur un espace de dimension d − 1.\n",
    "    \n",
    "---\n",
    "\n"
   ]
  },
  {
   "cell_type": "markdown",
   "metadata": {
    "id": "hZEI63b7IgFb"
   },
   "source": [
    "---\n",
    "- <font size=\"4px\">On recalcule la moyenne et la variance de prédiction par processus gaussien ( ou krigeage).\n",
    "---"
   ]
  },
  {
   "cell_type": "code",
   "execution_count": 24,
   "metadata": {
    "id": "eaNomcGlIjrg"
   },
   "outputs": [],
   "source": [
    "#latin Hypercube Sampling\n",
    "X2=latin_hypercube_2d_uniform(9)\n",
    "y2=Branin_cube(X2[:,0],X2[:,1])\n",
    "\n",
    "K2=covariance_matrix(X2,X2,theta=0.2,sigma=1.0)\n",
    "\n",
    "invK2=np.linalg.inv(K2+ 1e-6*np.eye(len(X2)))\n",
    "sigma2_hat2=(y2.T.dot(invK2).dot(y2))/len(y2)\n",
    "kv2=covariance_matrix(Xgrid,X2,theta=0.2,sigma=1.0)"
   ]
  },
  {
   "cell_type": "code",
   "execution_count": 25,
   "metadata": {
    "colab": {
     "base_uri": "https://localhost:8080/"
    },
    "id": "v6MTiMi4InKt",
    "outputId": "2d4e503d-e411-45f7-9af0-d508a0e0ebbc"
   },
   "outputs": [
    {
     "name": "stdout",
     "output_type": "stream",
     "text": [
      "La moyenne de prédiction par krigeage:\n",
      "[2.19900217e-02 2.16814609e-02 2.06191905e-02 ... 2.67892255e+01\n",
      " 2.63652257e+01 2.58177575e+01]\n",
      "La variance de prédiction par krigeage:\n",
      "[[6484.07588593 6484.07127518 6484.06645178 ... 6484.13280979\n",
      "  6484.13280533 6484.13277412]\n",
      " [6484.07127518 6484.06612483 6484.06069509 ... 6484.13400225\n",
      "  6484.13399689 6484.13395727]\n",
      " [6484.06645178 6484.06069509 6484.0545743  ... 6484.13551649\n",
      "  6484.13551    6484.13545974]\n",
      " ...\n",
      " [6484.13280979 6484.13400225 6484.13551649 ... 6359.20278611\n",
      "  6360.86615811 6363.14035879]\n",
      " [6484.13280533 6484.13399689 6484.13551    ... 6360.86615811\n",
      "  6362.50519816 6364.74717755]\n",
      " [6484.13277412 6484.13395727 6484.13545974 ... 6363.14035879\n",
      "  6364.74717755 6366.94603245]]\n"
     ]
    }
   ],
   "source": [
    "#Moyenne de prédiction par krigeage\n",
    "print('La moyenne de prédiction par krigeage:')\n",
    "mn2=kv2.dot(invK2).dot(y2)\n",
    "print(mn2)\n",
    "#variance de prédiction par krigeage\n",
    "print('La variance de prédiction par krigeage:')\n",
    "sn22=sigma2_hat2*(1-kv2.dot(invK2).dot(kv2.T))\n",
    "print(sn22)"
   ]
  },
  {
   "cell_type": "markdown",
   "metadata": {
    "id": "T92kvi7rI2ux"
   },
   "source": [
    "---\n",
    "- <font size=\"4px\">Pour comparer les résultats des deux plans d'expérience , on calcule la RMSE:\n",
    "$RMSE=\\sqrt{\\frac{1}{n} \\sum_{i=1}^{n} (y_i-\\hat{y_i})^2}$\n",
    "---"
   ]
  },
  {
   "cell_type": "code",
   "execution_count": 26,
   "metadata": {
    "colab": {
     "base_uri": "https://localhost:8080/"
    },
    "id": "1FU_atbvIqZJ",
    "outputId": "d1e90118-dc7c-4a36-d4ea-5afee17973d9"
   },
   "outputs": [
    {
     "name": "stdout",
     "output_type": "stream",
     "text": [
      "RMSE de 10 LHS [ 57.95887838  56.21000153 135.40523066 105.05716513  70.54795467\n",
      "  59.25826799  95.91586045 203.96079112  75.42526008  72.41558321]\n",
      "Moyenne = 93.2154993218805\n",
      "RMSE dans la grille régulière est: 48.92835832212857\n"
     ]
    }
   ],
   "source": [
    "ind=10\n",
    "RMSE1=np.sqrt(np.mean((Ygrid - mn1)**2))\n",
    "RMSE2=np.zeros(ind)\n",
    "for i in range(ind):\n",
    "    X2=latin_hypercube_2d_uniform(9)\n",
    "    y2=Branin_cube(X2[:,0],X2[:,1])\n",
    "\n",
    "    k2=covariance_matrix(X2,X2,theta=0.2,sigma=1.0)\n",
    "    invK2=np.linalg.inv(K2+1e-6*np.eye(len(X2)))\n",
    "    sigma2_hat2=(y2.T.dot(invK2).dot(y2))/len(y2)\n",
    "    kv2=covariance_matrix(Xgrid,X2,theta=0.2,sigma=1.0)\n",
    "\n",
    "    #Moyenne de prédiction par krigeage\n",
    "    mn2=kv2.dot(invK2).dot(y2)\n",
    "    #variance de prédiction par krigeage\n",
    "    sn22=sigma2_hat2*(1-kv2.dot(invK2).dot(kv2.T))\n",
    "  \n",
    "    #RMSE\n",
    "    RMSE2[i]=np.sqrt(np.mean((Ygrid - mn2)**2))\n",
    "print('RMSE de 10 LHS', RMSE2)\n",
    "print('Moyenne =', np.sum(RMSE2)/ind)\n",
    "print('RMSE dans la grille régulière est:', RMSE1)"
   ]
  },
  {
   "cell_type": "markdown",
   "metadata": {
    "id": "Ev1ZCeNpSQmJ"
   },
   "source": [
    "### <font color='ushua'>5. Utiliser la log-vraisemblance concentrée (en l'optimisant) pour estimer $\\theta$, comparer au resultat précédent. en fonction de $x_1$ et $x_2$ sur $\\mathcal{X}$. Afficher la moyenne et variance de prédiction avec les valeurs optimales.</font>\n",
    "\n",
    "<font size=\"4px\"> On rappelle que la log-vraisemblance concentrée s'écrit: \n",
    "$$\\log \\ell (\\theta) = -\\frac{n}{2} \\log(2 \\pi) - \\frac{n}{2} \\log \\mathbf{y}_n^\\top \\mathbf{K}_n^{-1} \\mathbf{y}_n - \\frac{1}{2} \\log |\\mathbf{K}_n|.$$"
   ]
  },
  {
   "cell_type": "code",
   "execution_count": 27,
   "metadata": {
    "id": "I5j2_B_IO-HX"
   },
   "outputs": [],
   "source": [
    "from scipy.optimize import minimize\n",
    "#vraisemblance\n",
    "def vraisemblance(theta,X,y,eps):\n",
    "    n=len(y)\n",
    "    K=covariance_matrix(X,X,theta,sigma=1)+eps*np.eye(n)\n",
    "    invK=np.linalg.inv(K)\n",
    "    (sign,logdetK)=np.linalg.slogdet(K)\n",
    "    nuhat=(y.T.dot(invK).dot(y))/n\n",
    "    return n*np.log(2*np.pi)/2+n*np.log(nuhat)/2+logdetK/2"
   ]
  },
  {
   "cell_type": "markdown",
   "metadata": {
    "id": "hE31GwmvQpd7"
   },
   "source": [
    "---\n",
    "<font size=\"4px\">**$\\theta_{opt}$ sur le plan d'expérience X1**\n",
    "    \n",
    "---"
   ]
  },
  {
   "cell_type": "code",
   "execution_count": 28,
   "metadata": {
    "colab": {
     "base_uri": "https://localhost:8080/"
    },
    "id": "q25C77_tPB5H",
    "outputId": "408d0e8e-150b-4269-e713-fc2d4d94aef5"
   },
   "outputs": [
    {
     "name": "stdout",
     "output_type": "stream",
     "text": [
      "[0.64229548]\n"
     ]
    }
   ],
   "source": [
    "bnds=((0.001,1.0),)\n",
    "res=minimize(vraisemblance,0.2,args=(X1,y1,1e-6,),bounds=bnds,method='L-BFGS-B')\n",
    "theta_opt1=res.x\n",
    "print(theta_opt1)"
   ]
  },
  {
   "cell_type": "markdown",
   "metadata": {
    "id": "qxRS7WqrSIt_"
   },
   "source": [
    "---\n",
    "<font size=\"4px\">**$\\theta_{opt}$ sur le plan d'expérience X2**\n",
    "\n",
    "---"
   ]
  },
  {
   "cell_type": "code",
   "execution_count": 34,
   "metadata": {
    "colab": {
     "base_uri": "https://localhost:8080/"
    },
    "id": "4NIZiHW7SVxu",
    "outputId": "9e59260f-3092-4261-a0fd-a10ef2930734"
   },
   "outputs": [
    {
     "name": "stdout",
     "output_type": "stream",
     "text": [
      "[0.43815998]\n"
     ]
    }
   ],
   "source": [
    "# calcul de l'optimum\n",
    "bnds=((0.001,1.0),)\n",
    "res=minimize(vraisemblance,0.2,args=(X2,y2,1e-6,),bounds=bnds,method='L-BFGS-B')\n",
    "theta_opt2=res.x\n",
    "print(theta_opt2)"
   ]
  },
  {
   "cell_type": "markdown",
   "metadata": {
    "id": "pHGwEWrpPEFY"
   },
   "source": [
    "---\n",
    "- <font size=\"4px\">Dans ce bloc nous avons estimé le paramètre $\\theta$ par maximisation de la fonction de vraisemblance.Après l'avoir implémenté nous obtenant la valeur ci_dessous que nous allons mettre en évidence par une représentation graphique tout d'abord sur le plan d'expérience X1 puis sur X2.\n",
    "---"
   ]
  },
  {
   "cell_type": "code",
   "execution_count": 35,
   "metadata": {
    "colab": {
     "base_uri": "https://localhost:8080/",
     "height": 312
    },
    "id": "t6Xd6GI2QULM",
    "outputId": "b4e4a1d3-2c10-463c-de5d-60e44b46a516"
   },
   "outputs": [
    {
     "data": {
      "image/png": "[encoded data removed]",
      "text/plain": [
       "<Figure size 432x288 with 1 Axes>"
      ]
     },
     "metadata": {
      "needs_background": "light"
     },
     "output_type": "display_data"
    }
   ],
   "source": [
    "start=0.001\n",
    "stop=1\n",
    "nb_vals=30\n",
    "theta_vals=np.linspace(start,stop,nb_vals)\n",
    "vraisemblance_val1=[]\n",
    "for i  in range(nb_vals):\n",
    "    vraisemblance_val1.append(-vraisemblance(theta_vals[i],X1,y1,1e-6)) #evaluation des valeurs de theta\n",
    "\n",
    "vraisemblance_opt1=-vraisemblance(theta_opt1,X1,y1,1e-6) #evaluation de l'optimum de la fonction de vraisemblance\n",
    "plt.plot(theta_vals,vraisemblance_val1,label='Vraisemble');\n",
    "plt.plot(theta_opt1,vraisemblance_opt1,'r*',label='optimum');\n",
    "plt.xlabel('theta')\n",
    "plt.ylabel('Vraisemblance')\n",
    "plt.grid()\n",
    "plt.title('Evaluation de loptimum de la fonction de vraisemblance sur X1' )\n",
    "plt.legend();"
   ]
  },
  {
   "cell_type": "code",
   "execution_count": 37,
   "metadata": {
    "colab": {
     "base_uri": "https://localhost:8080/",
     "height": 312
    },
    "id": "GbFQs8FrTwwJ",
    "outputId": "a655205f-cb2b-4076-9cd9-f6e1b1190be5"
   },
   "outputs": [
    {
     "data": {
      "image/png": "[encoded data removed]",
      "text/plain": [
       "<Figure size 432x288 with 1 Axes>"
      ]
     },
     "metadata": {
      "needs_background": "light"
     },
     "output_type": "display_data"
    }
   ],
   "source": [
    "start=0.001\n",
    "stop=1\n",
    "nb_vals=30\n",
    "theta_vals=np.linspace(start,stop,nb_vals)\n",
    "vraisemblance_val2=[]\n",
    "for i  in range(nb_vals):\n",
    "    vraisemblance_val2.append(-vraisemblance(theta_vals[i],X2,y2,1e-6)) #evaluation des valeurs de theta\n",
    "\n",
    "vraisemblance_opt2=-vraisemblance(theta_opt2,X2,y2,1e-6) #evaluation de l'optimum de la fonction de vraisemblance\n",
    "plt.plot(theta_vals,vraisemblance_val2,label='Vraisemble')\n",
    "plt.plot(theta_opt2,vraisemblance_opt2,'r*',label='optimum')\n",
    "plt.xlabel('theta')\n",
    "plt.ylabel('Vraisemblance')\n",
    "plt.grid()\n",
    "plt.title('Evaluation de loptimum de la fonction de vraisemblance sur X2' )\n",
    "plt.legend();"
   ]
  },
  {
   "cell_type": "markdown",
   "metadata": {
    "id": "mm4XfArwXUwU"
   },
   "source": [
    "---\n",
    "- <font size=\"4px\"> Calculons la moyenne et la variance avec la nouvelle valeur de $\\theta$\n",
    "    \n",
    "---"
   ]
  },
  {
   "cell_type": "code",
   "execution_count": 86,
   "metadata": {
    "colab": {
     "base_uri": "https://localhost:8080/"
    },
    "id": "bgBkJKafX6on",
    "outputId": "9a37faf8-a208-4d10-88bc-5f6240040833"
   },
   "outputs": [
    {
     "name": "stdout",
     "output_type": "stream",
     "text": [
      "La moyenne de prédiction:\n",
      "[ 54.14266363  54.25094598  54.28317076 ... 190.03911515 189.7638451\n",
      " 189.38606919]\n",
      "La variance de prédiction:\n",
      "[[2856.31479104 2814.38126037 2775.60603055 ... 8404.74024078\n",
      "  8416.17995676 8427.5493038 ]\n",
      " [2814.38126037 2770.3436257  2729.45067619 ... 8394.8446352\n",
      "  8406.12762899 8417.33996722]\n",
      " [2775.60603055 2729.45067619 2686.42266419 ... 8384.74671031\n",
      "  8395.87154606 8406.9256037 ]\n",
      " ...\n",
      " [8404.74024078 8394.8446352  8384.74671031 ...  648.82566451\n",
      "   660.70871871  677.24539288]\n",
      " [8416.17995676 8406.12762899 8395.87154606 ...  660.70871871\n",
      "   670.23492738  684.45374217]\n",
      " [8427.5493038  8417.33996722 8406.9256037  ...  677.24539288\n",
      "   684.45374217  696.38934249]]\n",
      "La RMS3 avec la nouvelle valeur de theta: 1.9980386785047235\n"
     ]
    }
   ],
   "source": [
    "#Using optimal parameters\n",
    "K3=covariance_matrix(X2,X2,theta_opt2,sigma=1.0)\n",
    "invK3=np.linalg.inv(K3+ 1e-6*np.eye(len(X2)))\n",
    "sigma2_hat3=(y2.T.dot(invK3).dot(y2))/len(y2)\n",
    "kv3=covariance_matrix(Xgrid,X2,theta_opt2,sigma=1.0)\n",
    "#Moyenne de prédiction par krigeage\n",
    "mn3=kv3.dot(invK3).dot(y2)\n",
    "print('La moyenne de prédiction:')\n",
    "print(mn3)\n",
    "#variance de prédiction par krigeage\n",
    "print('La variance de prédiction:')\n",
    "sn23=sigma2_hat3*(1-kv3.dot(invK3).dot(kv3.T))\n",
    "print(sn23)\n",
    "RMS3=np.sqrt(np.mean(Ygrid-mn3)**2)\n",
    "print('La RMS3 avec la nouvelle valeur de theta:',RMS3)"
   ]
  },
  {
   "cell_type": "markdown",
   "metadata": {
    "id": "M74cumNRjY9z"
   },
   "source": [
    "---\n",
    "- <font size=\"4px\"> Nous remarquons que la RMSE a bien diminué en utilisant la valeur optimale de $\\theta$ obtenue par maximisation de la fonction de vraisemblance.\n",
    "---"
   ]
  },
  {
   "cell_type": "markdown",
   "metadata": {
    "id": "2kfK811jUhCW"
   },
   "source": [
    "# <font color='purple'> Partie 3 : EGO\n",
    "\n",
    "<font size=\"4px\"> On utilise maintenant les fonctions précédemment développées pour implémenter l'algorithme EGO."
   ]
  },
  {
   "cell_type": "markdown",
   "metadata": {
    "id": "1e1fGSRCUrz5"
   },
   "source": [
    "### <font color=\"ushua\">1. Ecrire la fonction d'amélioration espérée **EI** qui prend en entrée un nouveau design, et retourne l'amélioration espérée correspondante. Tracer la fonction EI en fonction de $x_1$ et $x_2$. \n",
    "\n",
    " <font size=\"4px\"> Rappel:\n",
    "$$E[I(\\textbf{x})|\\mathbf{X}_n, \\mathbf{y}_n ] = \\left(t_n - m_n(\\textbf{x})\\right)\\Phi\\left(\\frac{t_n - m_n(\\textbf{x})}{s_n(\\textbf{x})} \\right)+s_n(\\textbf{x})\\phi\\left(\\frac{t_n - m_n(\\textbf{x})}{s_n(\\textbf{x})} \\right),$$\n",
    "où $\\phi$ et $\\Phi$ sont la densité et la fonction de répartition de la loi normale standard, $t_{n}=\\min _{1 \\leq i \\leq n} y_{i}.$\n",
    "\n"
   ]
  },
  {
   "cell_type": "markdown",
   "metadata": {
    "id": "rR6LG_sHbIrX"
   },
   "source": [
    "---\n",
    "- <font size=\"4px\"> Afin de cibler le choix des points dans une optique d’optimisation de l’efficience, nous utiliserons le critère dit d’amélioration espérée ou « expected improvement » qui est donc un compromis entre les endroits où la moyenne est faible et ceux où la variance est élevé , elle est définie comme suit:     <font color='orange' >$max(min(f(x_i)-Y(x),0)$\n",
    "---"
   ]
  },
  {
   "cell_type": "code",
   "execution_count": 38,
   "metadata": {
    "id": "mS0hgqNdVAHt"
   },
   "outputs": [],
   "source": [
    "def EI(x, theta , sigma2, invK, X, y):\n",
    "    Xs=np.vstack((X,x))\n",
    "    kvec=covariance_matrix(Xs,X,theta=theta,sigma=1.0)\n",
    "    mn=kvec.dot(invK).dot(y)\n",
    "    sn2=sigma2*(1-kvec.dot(invK).dot(kvec.T))\n",
    "    f_min=min(y)\n",
    "    arg=(f_min-mn)/np.sqrt(sn2)\n",
    "    res=(f_min-mn)*norm.cdf(arg)+np.sqrt(sn2)*norm.pdf(arg)\n",
    "    res=np.linalg.norm(res,np.inf)\n",
    "    return -res #this EI needs to be maximized"
   ]
  },
  {
   "cell_type": "markdown",
   "metadata": {
    "id": "c7lnOEPkVAm2"
   },
   "source": [
    "---\n",
    "###  <font color=\"ushua\">2. Ecrire la fonction **EGO_one_step** qui maximise l'EI sur le domaine de conception. \n",
    "\n",
    "---"
   ]
  },
  {
   "cell_type": "code",
   "execution_count": 39,
   "metadata": {
    "id": "Fw6tR-0EVI_9"
   },
   "outputs": [],
   "source": [
    "def EGO_one_step(X,y):\n",
    "    n=len(y)\n",
    "    #i) optimize hyperparameters\n",
    "    bndsVS=((0.001, 1.0),)\n",
    "    resVS=minimize(vraisemblance,0.2,args=(X,y,1e-6,), bounds=bndsVS,method='L-BFGS-B')\n",
    "    theta=resVS.x \n",
    "    #ii) model fit\n",
    "    K=covariance_matrix(X,X,theta=theta,sigma=1.0) #sigma estimated by plugin\n",
    "    invK=np.linalg.inv(K+1e-6*np.eye(n))\n",
    "    sigma2_hat=(y.T.dot(invK).dot(y))/n\n",
    "    #ii) EI optimization\n",
    "    bndsEI=((0.001,1.0),(0.001,1.0),)\n",
    "    resEI=minimize(EI,x0=[0.1,0.1],args=(theta,sigma2_hat,invK,X,y,),bounds=bndsEI,method='L-BFGS-B') #BFGS\n",
    "    \n",
    "    return resEI"
   ]
  },
  {
   "cell_type": "markdown",
   "metadata": {
    "id": "aeIkAKeWVJbe"
   },
   "source": [
    "---\n",
    "###  <font color=\"ushua\">3. Regarder la performance sur 21 pas (budget total de 30 évaluations). Comparer à d'autres méthodes d'optimisation (e.g., descente de gradient, recherche aléatoire).\n",
    "    \n",
    "---"
   ]
  },
  {
   "cell_type": "code",
   "execution_count": 40,
   "metadata": {
    "colab": {
     "base_uri": "https://localhost:8080/"
    },
    "id": "7fRnKxxGVK0V",
    "outputId": "d3a0cd62-0034-4e76-a551-c881356e9c4a"
   },
   "outputs": [
    {
     "name": "stdout",
     "output_type": "stream",
     "text": [
      "Xnew: [0.001      0.63066234] -> ynew : 46.70731327229541\n",
      "Xnew: [0.33103775 0.45989561] -> ynew : 20.13570750015662\n",
      "Xnew: [0.001      0.94568167] -> ynew : -3.5844942819161254\n",
      "Xnew: [0.08885281 0.81641522] -> ynew : -14.879384318482233\n",
      "Xnew: [0.09273043 0.80516516] -> ynew : -14.797015762777301\n",
      "Xnew: [0.07702686 0.82007033] -> ynew : -13.564978049974071\n",
      "Xnew: [0.08468651 1.        ] -> ynew : -15.032219730091542\n",
      "Xnew: [0.10191608 0.84361792] -> ynew : -16.258976251246345\n",
      "Xnew: [0.77081241 0.001     ] -> ynew : 53.26041669470541\n",
      "Xnew: [0.09506195 0.9068132 ] -> ynew : -16.51886818019222\n",
      "Xnew: [0.096454   0.89668701] -> ynew : -16.53914353999217\n",
      "Xnew: [0.09711551 0.89624883] -> ynew : -16.520862228437583\n",
      "Xnew: [0.09736534 0.89608753] -> ynew : -16.51353620347912\n",
      "Xnew: [0.09747974 0.89616437] -> ynew : -16.509231302280256\n",
      "Xnew: [0.09766143 0.89521938] -> ynew : -16.50848222890544\n",
      "Xnew: [0.09752228 0.89489465] -> ynew : -16.514903374643094\n",
      "Xnew: [0.09745    0.89727257] -> ynew : -16.50352066972966\n",
      "Xnew: [0.09751888 0.89799945] -> ynew : -16.49632044674701\n",
      "Xnew: [0.09751706 0.89542622] -> ynew : -16.512183047518416\n",
      "Xnew: [0.09773651 0.89417884] -> ynew : -16.511627505184656\n",
      "Xnew: [0.09781607 0.89438888] -> ynew : -16.507851021025566\n",
      "Xnew: [0.09759768 0.89610067] -> ynew : -16.505559782590623\n",
      "Xnew: [0.09782224 0.89475761] -> ynew : -16.505607695318513\n",
      "Xnew: [0.09734653 0.89596445] -> ynew : -16.51485790540767\n",
      "Xnew: [0.09770073 0.8949681 ] -> ynew : -16.50855858510061\n",
      "Xnew: [0.09749689 0.89628844] -> ynew : -16.507914699219246\n",
      "Xnew: [0.09803034 0.89477152] -> ynew : -16.498320214704194\n",
      "Xnew: [0.09753473 0.8933834 ] -> ynew : -16.522050961912477\n",
      "Xnew: [0.09759026 0.89377738] -> ynew : -16.51841538179152\n",
      "Xnew: [0.09746283 0.89415371] -> ynew : -16.520620808670543\n"
     ]
    }
   ],
   "source": [
    "X2=latin_hypercube_2d_uniform(9)\n",
    "y2=Branin_cube(X2[:,0],X2[:,1])\n",
    "\n",
    "X0=X2\n",
    "y0=y2\n",
    "nsteps=30\n",
    "\n",
    "for i in range(nsteps):\n",
    "    #Find best new point\n",
    "    res=EGO_one_step(X0,y0)\n",
    "    Xnew=res.x\n",
    "    \n",
    "    #Evaluate it\n",
    "    ynew=Branin_cube(Xnew[0],Xnew[1])\n",
    "\n",
    "    #Add new point to previous points\n",
    "    X0=np.vstack((X0,Xnew))\n",
    "    y0=np.hstack((y0,ynew))\n",
    "\n",
    "    print('Xnew:', Xnew, '-> ynew :', ynew)"
   ]
  },
  {
   "cell_type": "markdown",
   "metadata": {
    "id": "Fn4XyKU8gd1f"
   },
   "source": [
    "\n",
    "---\n",
    "* <font size=\"5px\" color=\"green\">Nous obtenons après environ 25 itérations , une valeur très acceptable d'un minimum un peu près égal à $-16.6$\n",
    "---"
   ]
  }
 ],
 "metadata": {
  "colab": {
   "collapsed_sections": [],
   "name": "TP_EGO.ipynb",
   "provenance": []
  },
  "kernelspec": {
   "display_name": "Python 3",
   "language": "python",
   "name": "python3"
  },
  "language_info": {
   "codemirror_mode": {
    "name": "ipython",
    "version": 3
   },
   "file_extension": ".py",
   "mimetype": "text/x-python",
   "name": "python",
   "nbconvert_exporter": "python",
   "pygments_lexer": "ipython3",
   "version": "3.7.6"
  }
 },
 "nbformat": 4,
 "nbformat_minor": 1
}
